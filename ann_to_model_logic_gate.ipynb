{
 "cells": [
  {
   "cell_type": "code",
   "execution_count": 2,
   "id": "3764d998",
   "metadata": {},
   "outputs": [],
   "source": [
    "import pandas as pd\n",
    "import numpy as np"
   ]
  },
  {
   "cell_type": "code",
   "execution_count": 4,
   "id": "0da7a90d",
   "metadata": {},
   "outputs": [],
   "source": [
    "test_inputs_and= np.array([[0,0],[0,1],[1,0],[1,1]])\n",
    "#correct_outputs_and= [False,False,False,True] #even on one zero it will be consider as False\n",
    "#weight1_and= 0.1\n",
    "#weight2_and=0.1\n",
    "#bias_and=2.0"
   ]
  },
  {
   "cell_type": "code",
   "execution_count": 32,
   "id": "12a44ec8",
   "metadata": {},
   "outputs": [],
   "source": [
    "#test_intputs_or= np.array([[0,0],[0,1],[1,0],[1,1]])\n",
    "#correct_outputs_or=[False,True,True,True] #on zero True and on one False\n",
    "#weight1_or= 2.0\n",
    "#weight2_or=2.0\n",
    "#bias_or=1.0"
   ]
  },
  {
   "cell_type": "code",
   "execution_count": 25,
   "id": "355a986e",
   "metadata": {},
   "outputs": [],
   "source": [
    "#test_intputs_not= np.array([[0],[1]])\n",
    "#correct_outputs_not=[True,False]\n",
    "#weight1_not= 1.0\n",
    "#weight2_not=-2.0\n",
    "#bias_not=0.0"
   ]
  },
  {
   "cell_type": "code",
   "execution_count": 31,
   "id": "b39a3aeb",
   "metadata": {},
   "outputs": [],
   "source": [
    "def train_Model_Logic(weight1,weight2,test_inputs,correct_outputs,bias,name=\"And\"):\n",
    "    outputs=[]\n",
    "    linear_combination=np.multiply(weight1,test_inputs[:,:1])+np.multiply(weight2,test_inputs[:,1:2])+bias\n",
    "    output=(linear_combination>=0)\n",
    "    num_wrong=np.array_equal(output,correct_outputs)\n",
    "    out={'Input1':test_inputs[:,:1].ravel().T,'Input2':test_inputs[:,1:2].ravel().T,'Correct Output':correct_outputs,'linear_combination':linear_combination.T.ravel(),'output':output.T.ravel()}\n",
    "    frame=pd.DataFrame(out)\n",
    "    if not num_wrong:\n",
    "        print(\"Successfully build {0} logic gate\".format(name))\n",
    "    else:\n",
    "        print(\"Something went wrong\")\n",
    "    return frame"
   ]
  },
  {
   "cell_type": "code",
   "execution_count": 35,
   "id": "8a9b1b0d",
   "metadata": {},
   "outputs": [
    {
     "data": {
      "text/plain": [
       "(0.1,\n",
       " 0.1,\n",
       " 2.0,\n",
       " array([[0, 0],\n",
       "        [0, 1],\n",
       "        [1, 0],\n",
       "        [1, 1]]),\n",
       " [False, False, False, True])"
      ]
     },
     "execution_count": 35,
     "metadata": {},
     "output_type": "execute_result"
    }
   ],
   "source": [
    "linear_combination=(weight1_and,weight2_and,bias_and,test_intputs_and,correct_outputs_and)\n",
    "output_and"
   ]
  },
  {
   "cell_type": "code",
   "execution_count": 6,
   "id": "139fc07d",
   "metadata": {},
   "outputs": [
    {
     "name": "stdout",
     "output_type": "stream",
     "text": [
      "[[-2.]\n",
      " [-1.]\n",
      " [-1.]\n",
      " [ 0.]]\n"
     ]
    }
   ],
   "source": [
    "weight1_and=1.0\n",
    "weight2_and=1.0\n",
    "bias_and=-2.0\n",
    "\n",
    "\n",
    "linear_combination=np.multiply(weight1_and,test_inputs_and[:,:1])+np.multiply(weight2_and,test_inputs_and[:,1:2])+bias_and\n",
    "print(linear_combination)"
   ]
  },
  {
   "cell_type": "code",
   "execution_count": null,
   "id": "75278089",
   "metadata": {},
   "outputs": [],
   "source": []
  }
 ],
 "metadata": {
  "kernelspec": {
   "display_name": "Python 3 (ipykernel)",
   "language": "python",
   "name": "python3"
  },
  "language_info": {
   "codemirror_mode": {
    "name": "ipython",
    "version": 3
   },
   "file_extension": ".py",
   "mimetype": "text/x-python",
   "name": "python",
   "nbconvert_exporter": "python",
   "pygments_lexer": "ipython3",
   "version": "3.10.9"
  }
 },
 "nbformat": 4,
 "nbformat_minor": 5
}
